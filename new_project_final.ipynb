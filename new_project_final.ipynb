{
 "cells": [
  {
   "cell_type": "markdown",
   "metadata": {},
   "source": [
    "# Final Project\n",
    "## Graph Coloring\n",
    "## Xiang Lan, Ju Lin"
   ]
  },
  {
   "cell_type": "markdown",
   "metadata": {},
   "source": [
    "### 1. Given vertices and edges number, generate adjacent matrix "
   ]
  },
  {
   "cell_type": "code",
   "execution_count": 2,
   "metadata": {},
   "outputs": [],
   "source": [
    "import random\n",
    "import numpy as np\n",
    "from collections import deque\n",
    "import networkx as nx\n",
    "import matplotlib.pyplot as plt\n",
    "\n",
    "# generate adjacent matrix for the graph\n",
    "class random_generate_graph(object):\n",
    "    \n",
    "    def __init__(self,vertices_number,edges_number):\n",
    "        self.v = vertices_number\n",
    "        self.e = edges_number\n",
    "        self.graph_dict = {}\n",
    "        self.matrix = [[0 for i in range(self.v)] for j in range(self.v)]\n",
    "            \n",
    "    def adjacent_matrix(self):\n",
    "        # for a undirected connected graph without self loop, the maximum edges number\n",
    "        max_edges_number = int(self.v*(self.v-1)/2)\n",
    "        \n",
    "        # if bigger than the max numbers of edges, return False\n",
    "        # Also, for a connected graph, the edges number should at least verges number minus 1\n",
    "        if self.e > max_edges_number or self.e < self.v - 1:\n",
    "            print('False edges number')\n",
    "            return False\n",
    "        \n",
    "        # store the matrix index i,j in list\n",
    "        edges = []\n",
    "        for i in range(self.v):\n",
    "            for j in range(i+1,self.v):\n",
    "                edges.append((i,j))\n",
    "                \n",
    "        # first get a connected graph with n vertice, n-1 edges\n",
    "        for i in range(0,self.v-1):\n",
    "            j = random.randint(i+1,self.v-1)\n",
    "            self.matrix[i][j] = 1\n",
    "            self.matrix[j][i] = 1\n",
    "            # remove the edges used\n",
    "            edges.remove((i,j))\n",
    "            \n",
    "        # get the remain edges number\n",
    "        remain_edge_num = self.e - self.v + 1\n",
    "        # random get the remain edges index                        \n",
    "        remain_edge_index = sorted(random.sample(range(0,len(edges)),remain_edge_num))\n",
    "        \n",
    "        # for a undirected graph, its adjacent matrix is symmetric\n",
    "        for k in remain_edge_index:\n",
    "            i = edges[k][0]\n",
    "            j = edges[k][1]\n",
    "            self.matrix[i][j] = self.matrix[j][i] = 1\n",
    "            \n",
    "        # the vertices should not be self connected\n",
    "        for index in range(self.v):\n",
    "                self.matrix[index][index] = 0\n",
    "        \n",
    "        print (\"Initializing a graph with %d vertices and %d edges\" % (self.v,self.e))\n",
    "    \n",
    "    # trans the matrix to dict for convenient use \n",
    "    def matrix_to_dict(self):\n",
    "        for i,row in enumerate(self.matrix):\n",
    "            self.graph_dict[i] = []\n",
    "            for j, adjacent in enumerate(row):\n",
    "                if adjacent:\n",
    "                    self.graph_dict[i].append(j)                    \n",
    "        \n",
    "    # draw graph from the adjacent matrix\n",
    "    def draw_color(self,color):\n",
    "        G = nx.from_numpy_matrix(np.array(self.matrix)) \n",
    "        nx.draw(G, cmap=plt.get_cmap('viridis'), node_color=color,with_labels=True)\n",
    "    \n",
    "    # draw the graph after coloring\n",
    "    def draw(self):\n",
    "        G = nx.from_numpy_matrix(np.array(self.matrix))\n",
    "        nx.draw(G, with_labels=True)\n",
    "        "
   ]
  },
  {
   "cell_type": "code",
   "execution_count": 79,
   "metadata": {},
   "outputs": [
    {
     "name": "stdout",
     "output_type": "stream",
     "text": [
      "Initializing a graph with 6 vertices and 9 edges\n",
      "[[0, 0, 0, 0, 1, 1], [0, 0, 0, 0, 1, 1], [0, 0, 0, 1, 1, 1], [0, 0, 1, 0, 0, 1], [1, 1, 1, 0, 0, 1], [1, 1, 1, 1, 1, 0]]\n"
     ]
    },
    {
     "data": {
      "image/png": "[encoded data removed]",
      "text/plain": [
       "<Figure size 432x288 with 1 Axes>"
      ]
     },
     "metadata": {},
     "output_type": "display_data"
    }
   ],
   "source": [
    "# Test example\n",
    "test = random_generate_graph(6,9)\n",
    "test.adjacent_matrix()\n",
    "test.matrix_to_dict()\n",
    "print(test.matrix)\n",
    "test.draw()"
   ]
  },
  {
   "cell_type": "markdown",
   "metadata": {},
   "source": [
    "### 2. Brute Force Alogrithm (Backtracking and Backtracking with pruning)"
   ]
  },
  {
   "cell_type": "code",
   "execution_count": 83,
   "metadata": {},
   "outputs": [],
   "source": [
    "class Backtracking(): \n",
    "    #initialize the total number vertices and adjacent matrix\n",
    "    def __init__(self, V_total, adjMatrix): \n",
    "        self.V_total = V_total \n",
    "        self.graph = adjMatrix \n",
    "   \n",
    "   # is safe for vertex v \n",
    "    def isSafe(self, v, colour, c): \n",
    "        for i in range(self.V_total): \n",
    "            if self.graph[v][i] == 1 and colour[i] == c: \n",
    "                return False\n",
    "        return True\n",
    "      \n",
    "    # backtracking to solve m coloring problem \n",
    "    # this will run n*c^n times, n is the number of vertices and c is the number of colors\n",
    "    def graphColourHelper(self, m, colour, v): \n",
    "        #if v is the last node, sucess coloring\n",
    "        if v == self.V_total: \n",
    "            return True\n",
    "        \n",
    "        # c is the number of colors, for each node, try every color to check safe or not \n",
    "        for c in range(1, m+1): \n",
    "            if self.isSafe(v, colour, c) == True: \n",
    "                colour[v] = c \n",
    "                if self.graphColourHelper(m, colour, v+1) == True: \n",
    "                    return True\n",
    "                colour[v] = 0\n",
    "    # runing graph coloring\n",
    "    def graphColouring(self, m): \n",
    "        colour = [0] * self.V_total \n",
    "        if self.graphColourHelper(m, colour, 0) == None: \n",
    "            return False\n",
    "  \n",
    "        return colour\n",
    "\n",
    "# backtracking with pruning\n",
    "class Backtracking_pruning(): \n",
    "    #initialize the total number vertices and adjacent matrix\n",
    "    def __init__(self, V_total, adjMatrix): \n",
    "        self.V_total = V_total \n",
    "        self.graph = adjMatrix \n",
    "   \n",
    "   # is safe for vertex v \n",
    "    def isSafe(self, v, colour, c): \n",
    "        for i in range(self.V_total): \n",
    "            if self.graph[v][i] == 1 and colour[i] == c: \n",
    "                return False\n",
    "        return True\n",
    "      \n",
    "    # backtracking with pruning to solve m coloring problem \n",
    "    # \n",
    "    def graphColourHelper(self, m, last, colour, v): \n",
    "        #if v is the last node, sucess coloring\n",
    "        if v == self.V_total: \n",
    "            return True\n",
    "        \n",
    "        # c is the number of colors, last is the previous the largerest color number\n",
    "        # Try the previously used colors first \n",
    "        for c in range(1, last+1): \n",
    "            if self.isSafe(v, colour, c) == True: \n",
    "                colour[v] = c \n",
    "                if self.graphColourHelper(m, last, colour, v+1) == True: \n",
    "                    return True\n",
    "                colour[v] = 0\n",
    "        #try new color if old corlor cannot meet the requirement\n",
    "        if last < m:\n",
    "            colour[v] = last + 1\n",
    "            if self.graphColourHelper(m, last+1, colour, v+1) == True:\n",
    "                return True\n",
    "    # runing graph coloring\n",
    "    def graphColouring(self, m): \n",
    "        colour = [0] * self.V_total \n",
    "        last = 1\n",
    "        if self.graphColourHelper(m, last, colour, 0) == None: \n",
    "            return False\n",
    "  \n",
    "        return colour\n",
    "\n"
   ]
  },
  {
   "cell_type": "code",
   "execution_count": 84,
   "metadata": {},
   "outputs": [
    {
     "name": "stdout",
     "output_type": "stream",
     "text": [
      "3\n"
     ]
    },
    {
     "data": {
      "image/png": "[encoded data removed]",
      "text/plain": [
       "<Figure size 432x288 with 1 Axes>"
      ]
     },
     "metadata": {},
     "output_type": "display_data"
    }
   ],
   "source": [
    "def BruteP_run(N, adj):\n",
    "    N = N\n",
    "    g = Backtracking_pruning(N, adj)\n",
    "    for m in range(1, N):\n",
    "        color = g.graphColouring(m)\n",
    "        if color:\n",
    "            return color\n",
    "        else:\n",
    "            continue\n",
    "def Brute_run(N, adj):\n",
    "    N = N\n",
    "    g = Backtracking(N, adj)\n",
    "    for m in range(1, N):\n",
    "        color = g.graphColouring(m)\n",
    "        if color:\n",
    "            return color\n",
    "        else:\n",
    "            continue\n",
    "color = Brute_run(test.v, test.matrix)\n",
    "color_num = max(color)\n",
    "print(color_num)\n",
    "test.draw_color(color)\n",
    "\n"
   ]
  },
  {
   "cell_type": "code",
   "execution_count": 85,
   "metadata": {},
   "outputs": [
    {
     "name": "stdout",
     "output_type": "stream",
     "text": [
      "3\n"
     ]
    },
    {
     "data": {
      "image/png": "[encoded data removed]",
      "text/plain": [
       "<Figure size 432x288 with 1 Axes>"
      ]
     },
     "metadata": {},
     "output_type": "display_data"
    }
   ],
   "source": [
    "color = BruteP_run(test.v, test.matrix)\n",
    "color_num = max(color)\n",
    "print(color_num)\n",
    "test.draw_color(color)"
   ]
  },
  {
   "cell_type": "markdown",
   "metadata": {},
   "source": [
    "### 3. Using Welsh Powell Alogrithm to do grapg coloring"
   ]
  },
  {
   "cell_type": "code",
   "execution_count": 73,
   "metadata": {},
   "outputs": [],
   "source": [
    "import heapq\n",
    "\n",
    "# test if the vertice have the same color with its adjacent vertice \n",
    "def test_valid(vertice,graph_map,color_map):\n",
    "    for i in graph_map[vertice]:\n",
    "        if color_map[i] == color_map[vertice]:\n",
    "            return False\n",
    "    return True\n",
    "\n",
    "def welsh_powell(graph_map):   \n",
    "    # get the degree for every vertice\n",
    "    degree = {}\n",
    "    for k,v in graph_map.items():\n",
    "        degree[k] = len(v)\n",
    "\n",
    "    # build prioity queue using the dict value\n",
    "    degree_pq = []\n",
    "    for k,v in degree.items():\n",
    "        heapq.heappush(degree_pq,(v,k))\n",
    "\n",
    "    # store the vertices in ascending order of degree\n",
    "    v_degree_list = []\n",
    "    for i in range(len(degree)):\n",
    "        v_degree_list.append(heapq.heappop(degree_pq)[1])\n",
    "    # get the vertice in discending order of degree    \n",
    "    v_degree_list.reverse()\n",
    "    \n",
    "    \n",
    "    # set color for the graph\n",
    "    color_map = []\n",
    "    for i in range(len(graph_map)):\n",
    "        color_map.append(0)\n",
    "    color_index = 1\n",
    "    used = []\n",
    "    \n",
    "    #print(v_degree_list)\n",
    "    #print(color_map)\n",
    "    \n",
    "    for vertice in v_degree_list:\n",
    "        if vertice not in used:\n",
    "            # vertices set color\n",
    "            if color_map[vertice] == 0:\n",
    "                color_map[vertice] = color_index\n",
    "            used.append(vertice)\n",
    "            # not connect set same color\n",
    "            for other_vertice in v_degree_list:\n",
    "                if (other_vertice not in graph_map[vertice]) and (color_map[other_vertice] == 0):\n",
    "                    color_map[other_vertice] = color_index\n",
    "                    \n",
    "                    if test_valid(other_vertice,graph_map,color_map) == False:\n",
    "                        color_map[other_vertice] = 0\n",
    "                    else:\n",
    "                        used.append(other_vertice)\n",
    "            color_index += 1\n",
    "    color_num = color_index -1 \n",
    "    return color_map,color_num"
   ]
  },
  {
   "cell_type": "code",
   "execution_count": 74,
   "metadata": {},
   "outputs": [
    {
     "data": {
      "text/plain": [
       "([4, 1, 2, 3, 1, 2], 4)"
      ]
     },
     "execution_count": 74,
     "metadata": {},
     "output_type": "execute_result"
    }
   ],
   "source": [
    "welsh_powell(test.graph_dict)"
   ]
  },
  {
   "cell_type": "code",
   "execution_count": 75,
   "metadata": {},
   "outputs": [
    {
     "data": {
      "image/png": "[encoded data removed]",
      "text/plain": [
       "<Figure size 432x288 with 1 Axes>"
      ]
     },
     "metadata": {},
     "output_type": "display_data"
    }
   ],
   "source": [
    "test.draw_color(welsh_powell(test.graph_dict)[0])"
   ]
  },
  {
   "cell_type": "code",
   "execution_count": 76,
   "metadata": {},
   "outputs": [
    {
     "name": "stdout",
     "output_type": "stream",
     "text": [
      "5.82 µs ± 44 ns per loop (mean ± std. dev. of 7 runs, 100000 loops each)\n"
     ]
    }
   ],
   "source": [
    "%timeit welsh_powell(test.graph_dict)"
   ]
  },
  {
   "cell_type": "markdown",
   "metadata": {},
   "source": [
    "### 4. Time Complexity Analysis"
   ]
  },
  {
   "cell_type": "code",
   "execution_count": 51,
   "metadata": {},
   "outputs": [
    {
     "name": "stdout",
     "output_type": "stream",
     "text": [
      "Initializing a graph with 5 vertices and 7 edges\n",
      "4.54 µs ± 34.6 ns per loop (mean ± std. dev. of 7 runs, 100000 loops each)\n",
      "20.9 µs ± 112 ns per loop (mean ± std. dev. of 7 runs, 10000 loops each)\n",
      "14 µs ± 70.6 ns per loop (mean ± std. dev. of 7 runs, 100000 loops each)\n",
      "Initializing a graph with 15 vertices and 17 edges\n",
      "15.4 µs ± 33.9 ns per loop (mean ± std. dev. of 7 runs, 100000 loops each)\n",
      "1.2 ms ± 3.06 µs per loop (mean ± std. dev. of 7 runs, 1000 loops each)\n",
      "914 µs ± 2.81 µs per loop (mean ± std. dev. of 7 runs, 1000 loops each)\n",
      "Initializing a graph with 25 vertices and 27 edges\n",
      "27.6 µs ± 124 ns per loop (mean ± std. dev. of 7 runs, 10000 loops each)\n",
      "25.8 ms ± 92.1 µs per loop (mean ± std. dev. of 7 runs, 10 loops each)\n",
      "9.66 ms ± 17.3 µs per loop (mean ± std. dev. of 7 runs, 100 loops each)\n",
      "Initializing a graph with 35 vertices and 37 edges\n",
      "37.7 µs ± 199 ns per loop (mean ± std. dev. of 7 runs, 10000 loops each)\n",
      "186 ms ± 1.26 ms per loop (mean ± std. dev. of 7 runs, 10 loops each)\n",
      "24.8 ms ± 124 µs per loop (mean ± std. dev. of 7 runs, 10 loops each)\n",
      "Initializing a graph with 45 vertices and 47 edges\n",
      "54.6 µs ± 363 ns per loop (mean ± std. dev. of 7 runs, 10000 loops each)\n",
      "9.44 s ± 41.3 ms per loop (mean ± std. dev. of 7 runs, 1 loop each)\n",
      "7.6 s ± 32.8 ms per loop (mean ± std. dev. of 7 runs, 1 loop each)\n",
      "Initializing a graph with 50 vertices and 52 edges\n",
      "62.2 µs ± 362 ns per loop (mean ± std. dev. of 7 runs, 10000 loops each)\n",
      "6.68 s ± 75.9 ms per loop (mean ± std. dev. of 7 runs, 1 loop each)\n",
      "4.13 s ± 33.6 ms per loop (mean ± std. dev. of 7 runs, 1 loop each)\n"
     ]
    }
   ],
   "source": [
    "for i in (5,15,25,35,45,50):\n",
    "    new = random_generate_graph(i,i+2)\n",
    "    new.adjacent_matrix()\n",
    "    new.matrix_to_dict()\n",
    "    brute = Backtracking(new.v, new.matrix)\n",
    "    %timeit welsh_powell(new.graph_dict)\n",
    "    %timeit Brute_run(new.v, new.matrix)\n",
    "    %timeit BruteP_run(new.v, new.matrix)\n"
   ]
  },
  {
   "cell_type": "code",
   "execution_count": 57,
   "metadata": {},
   "outputs": [
    {
     "name": "stdout",
     "output_type": "stream",
     "text": [
      "Initializing a graph with 20 vertices and 19 edges\n",
      "21.6 µs ± 228 ns per loop (mean ± std. dev. of 7 runs, 10000 loops each)\n",
      "6.25 ms ± 21.4 µs per loop (mean ± std. dev. of 7 runs, 100 loops each)\n",
      "1.01 ms ± 5.93 µs per loop (mean ± std. dev. of 7 runs, 1000 loops each)\n",
      "Initializing a graph with 20 vertices and 30 edges\n",
      "22.9 µs ± 210 ns per loop (mean ± std. dev. of 7 runs, 10000 loops each)\n",
      "403 µs ± 1.29 µs per loop (mean ± std. dev. of 7 runs, 1000 loops each)\n",
      "291 µs ± 2.16 µs per loop (mean ± std. dev. of 7 runs, 1000 loops each)\n",
      "Initializing a graph with 20 vertices and 40 edges\n",
      "25.9 µs ± 94.2 ns per loop (mean ± std. dev. of 7 runs, 10000 loops each)\n",
      "275 ms ± 1.2 ms per loop (mean ± std. dev. of 7 runs, 1 loop each)\n",
      "3.97 ms ± 8.8 µs per loop (mean ± std. dev. of 7 runs, 100 loops each)\n",
      "Initializing a graph with 20 vertices and 50 edges\n",
      "28.7 µs ± 108 ns per loop (mean ± std. dev. of 7 runs, 10000 loops each)\n",
      "136 ms ± 439 µs per loop (mean ± std. dev. of 7 runs, 10 loops each)\n",
      "15.9 ms ± 38.2 µs per loop (mean ± std. dev. of 7 runs, 100 loops each)\n",
      "Initializing a graph with 20 vertices and 80 edges\n",
      "32.8 µs ± 157 ns per loop (mean ± std. dev. of 7 runs, 10000 loops each)\n",
      "1.57 s ± 5.23 ms per loop (mean ± std. dev. of 7 runs, 1 loop each)\n",
      "197 ms ± 2.87 ms per loop (mean ± std. dev. of 7 runs, 10 loops each)\n"
     ]
    }
   ],
   "source": [
    "for i in (19,30,40,50,80):\n",
    "    new = random_generate_graph(20,i)\n",
    "    new.adjacent_matrix()\n",
    "    new.matrix_to_dict()\n",
    "    brute = Backtracking(new.v, new.matrix)\n",
    "    %timeit welsh_powell(new.graph_dict)\n",
    "    %timeit Brute_run(new.v, new.matrix)\n",
    "    %timeit BruteP_run(new.v, new.matrix)"
   ]
  }
 ],
 "metadata": {
  "kernelspec": {
   "display_name": "Python 3",
   "language": "python",
   "name": "python3"
  },
  "language_info": {
   "codemirror_mode": {
    "name": "ipython",
    "version": 3
   },
   "file_extension": ".py",
   "mimetype": "text/x-python",
   "name": "python",
   "nbconvert_exporter": "python",
   "pygments_lexer": "ipython3",
   "version": "3.6.9"
  },
  "name": "HW06.ipynb"
 },
 "nbformat": 4,
 "nbformat_minor": 1
}
